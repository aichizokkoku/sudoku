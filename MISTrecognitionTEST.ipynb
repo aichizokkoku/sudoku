{
  "nbformat": 4,
  "nbformat_minor": 0,
  "metadata": {
    "colab": {
      "name": "MISTrecognitionTEST.ipynb",
      "version": "0.3.2",
      "provenance": []
    },
    "kernelspec": {
      "name": "python3",
      "display_name": "Python 3"
    }
  },
  "cells": [
    {
      "metadata": {
        "id": "HIGno3Em0uT-",
        "colab_type": "code",
        "colab": {
          "base_uri": "https://localhost:8080/",
          "height": 350
        },
        "outputId": "72d59ae7-dea5-407e-b20d-6376a30bf7a9"
      },
      "cell_type": "code",
      "source": [
        "import keras\n",
        "from keras.datasets import mnist\n",
        "from matplotlib import pyplot\n",
        "\n",
        "#MNISTデータの読み込み\n",
        "(X_train, Y_train), (X_test, Y_test) = mnist.load_data()\n",
        "\n",
        "#データを出力してみる\n",
        "for i in range(0,32):\n",
        "  pyplot.subplot(4, 8, i + 1)\n",
        "  pyplot.imshow(X_train[i], cmap='gray')\n",
        "  \n",
        "pyplot.show()"
      ],
      "execution_count": 2,
      "outputs": [
        {
          "output_type": "stream",
          "text": [
            "Using TensorFlow backend.\n"
          ],
          "name": "stderr"
        },
        {
          "output_type": "display_data",
          "data": {
            "image/png": "[encoded data removed]",
            "text/plain": [
              "<matplotlib.figure.Figure at 0x7f28e53f3128>"
            ]
          },
          "metadata": {
            "tags": []
          }
        }
      ]
    },
    {
      "metadata": {
        "id": "a1JsZYEy2jaU",
        "colab_type": "code",
        "colab": {
          "base_uri": "https://localhost:8080/",
          "height": 34
        },
        "outputId": "ed2d102d-9ff3-47cc-b5a9-333fa89847dc"
      },
      "cell_type": "code",
      "source": [
        "Y_train"
      ],
      "execution_count": 3,
      "outputs": [
        {
          "output_type": "execute_result",
          "data": {
            "text/plain": [
              "array([5, 0, 4, ..., 5, 6, 8], dtype=uint8)"
            ]
          },
          "metadata": {
            "tags": []
          },
          "execution_count": 3
        }
      ]
    },
    {
      "metadata": {
        "id": "Rqp0EQOx1pQn",
        "colab_type": "code",
        "colab": {
          "base_uri": "https://localhost:8080/",
          "height": 34
        },
        "outputId": "251e7055-5f7b-4c51-cdef-351f3bbf05da"
      },
      "cell_type": "code",
      "source": [
        "from sklearn.model_selection import train_test_split\n",
        "from sklearn import datasets, svm, metrics\n",
        "from sklearn.metrics import accuracy_score\n",
        "\n",
        "#データを一次元の配列に変換して正規化\n",
        "X_train = X_train.reshape(-1, 784).astype('float32') / 255\n",
        "X_test = X_test.reshape(-1, 784).astype('float32') / 255\n",
        "\n",
        "#データを学習\n",
        "clf = svm.LinearSVC()\n",
        "clf.fit(X_train, Y_train)\n",
        "\n",
        "#予測して精度を確認する\n",
        "Y_pred = clf.predict(X_test)\n",
        "print(\"精度:\", accuracy_score(Y_test, Y_pred))"
      ],
      "execution_count": 4,
      "outputs": [
        {
          "output_type": "stream",
          "text": [
            "精度: 0.9184\n"
          ],
          "name": "stdout"
        }
      ]
    },
    {
      "metadata": {
        "id": "UKhohPQTI8h9",
        "colab_type": "code",
        "colab": {
          "base_uri": "https://localhost:8080/",
          "height": 34
        },
        "outputId": "0ce17866-c3a3-47e7-b34c-6f10edc71646"
      },
      "cell_type": "code",
      "source": [
        "from sklearn.externals import joblib\n",
        "joblib.dump(clf, 'sudoku.pkl')"
      ],
      "execution_count": 6,
      "outputs": [
        {
          "output_type": "execute_result",
          "data": {
            "text/plain": [
              "['sudoku.pkl']"
            ]
          },
          "metadata": {
            "tags": []
          },
          "execution_count": 6
        }
      ]
    },
    {
      "metadata": {
        "id": "ctdMyorU7Hpm",
        "colab_type": "code",
        "colab": {
          "base_uri": "https://localhost:8080/",
          "height": 125
        },
        "outputId": "946a182e-04e5-4827-b220-e2f3fb16fa02"
      },
      "cell_type": "code",
      "source": [
        "! pip install nose"
      ],
      "execution_count": 8,
      "outputs": [
        {
          "output_type": "stream",
          "text": [
            "Collecting nose\n",
            "\u001b[?25l  Downloading https://files.pythonhosted.org/packages/15/d8/dd071918c040f50fa1cf80da16423af51ff8ce4a0f2399b7bf8de45ac3d9/nose-1.3.7-py3-none-any.whl (154kB)\n",
            "\u001b[K    100% |████████████████████████████████| 163kB 6.0MB/s \n",
            "\u001b[?25hInstalling collected packages: nose\n",
            "Successfully installed nose-1.3.7\n"
          ],
          "name": "stdout"
        }
      ]
    },
    {
      "metadata": {
        "id": "lXkRLlYX65QF",
        "colab_type": "code",
        "colab": {
          "base_uri": "https://localhost:8080/",
          "height": 158
        },
        "outputId": "24144e44-0f27-46fe-d402-6576f0f24ad3"
      },
      "cell_type": "code",
      "source": [
        "from sklearn.model_selection import train_test_split\n",
        "from sklearn import datasets, svm, metrics\n",
        "from sklearn.metrics import accuracy_score\n",
        "import warnings\n",
        "from sklearn.utils.testing import all_estimators\n",
        "\n",
        "\n",
        "#データを学習\n",
        "warnings.filterwarnings(\"ignore\")\n",
        "allAlgorithms = all_estimators(type_filter = \"classifier\")\n",
        "\n",
        "for (name, algorithm) in allAlgorithms:\n",
        "  clf = algorithm()\n",
        "  \n",
        "  clf.fit(X_train, Y_train)\n",
        "  Y_pred = clf.predict(X_test)\n",
        "  print(name, \"の精度:\", accuracy_score(Y_test, Y_pred))"
      ],
      "execution_count": 0,
      "outputs": [
        {
          "output_type": "stream",
          "text": [
            "AdaBoostClassifier の精度: 0.7299\n",
            "BaggingClassifier の精度: 0.9484\n",
            "BernoulliNB の精度: 0.8413\n",
            "CalibratedClassifierCV の精度: 0.866\n",
            "DecisionTreeClassifier の精度: 0.8794\n",
            "ExtraTreeClassifier の精度: 0.8279\n",
            "ExtraTreesClassifier の精度: 0.9526\n",
            "GaussianNB の精度: 0.5558\n"
          ],
          "name": "stdout"
        }
      ]
    },
    {
      "metadata": {
        "id": "RNgS2Dl95aWf",
        "colab_type": "code",
        "colab": {}
      },
      "cell_type": "code",
      "source": [
        "import pandas as pd\n",
        "from sklearn.model_selection import train_test_split\n",
        "from sklearn.svm import SVC\n",
        "from sklearn.metrics import accuracy_score\n",
        "from sklearn.model_selection import KFold\n",
        "from sklearn.model_selection import GridSearchCV\n",
        "\n",
        "\n",
        "#グリッドサーチで利用するパラメーターを指定\n",
        "parameters = [\n",
        "    {\"C\": [1, 10, 100, 1000], \"kernel\":[\"linear\"]},\n",
        "    {\"C\": [1, 10, 100, 1000], \"kernel\":[\"rbf\"], \"gamma\":[0.001, 0.0001]},\n",
        "    {\"C\": [1, 10, 100, 1000], \"kernel\":[\"sigmoid\"], \"gamma\":[0.001, 0.0001]}\n",
        "]\n",
        "\n",
        "#グリッドサーチを行う\n",
        "kfold_cv = KFold(n_splits=5, shuffle=True)\n",
        "clf = GridSearchCV( SVC(), parameters, cv=kfold_cv)\n",
        "clf.fit(X_train, Y_train)\n",
        "print(\"最適なパラメーター = \", clf.best_estimator_)\n",
        "\n",
        "#最適なパラメーターで評価\n",
        "Y_pred = clf.predict(X_test)\n",
        "print(\"評価時の正答率 = \", accuracy_score(Y_test, Y_pred))"
      ],
      "execution_count": 0,
      "outputs": []
    }
  ]
}