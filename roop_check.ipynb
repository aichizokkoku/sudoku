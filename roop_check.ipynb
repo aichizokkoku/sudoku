{
  "nbformat": 4,
  "nbformat_minor": 0,
  "metadata": {
    "colab": {
      "name": "roop_check.ipynb",
      "version": "0.3.2",
      "provenance": []
    },
    "kernelspec": {
      "name": "python3",
      "display_name": "Python 3"
    },
    "accelerator": "GPU"
  },
  "cells": [
    {
      "metadata": {
        "id": "eyBfLu4e9iOY",
        "colab_type": "code",
        "colab": {}
      },
      "cell_type": "code",
      "source": [
        "%matplotlib inline"
      ],
      "execution_count": 0,
      "outputs": []
    },
    {
      "metadata": {
        "id": "xaZugsHZ9525",
        "colab_type": "code",
        "outputId": "52fbfeef-6c75-4570-bc31-aa6306a45f11",
        "colab": {
          "resources": {
            "http://localhost:8080/nbextensions/google.colab/files.js": {
              "data": "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",
              "ok": true,
              "headers": [
                [
                  "content-type",
                  "application/javascript"
                ]
              ],
              "status": 200,
              "status_text": ""
            }
          },
          "base_uri": "https://localhost:8080/",
          "height": 79
        }
      },
      "cell_type": "code",
      "source": [
        "from google.colab import files\n",
        "upload = files.upload()"
      ],
      "execution_count": 17,
      "outputs": [
        {
          "output_type": "display_data",
          "data": {
            "text/html": [
              "\n",
              "     <input type=\"file\" id=\"files-ac07eecb-68ca-4264-af71-3fed31d12956\" name=\"files[]\" multiple disabled />\n",
              "     <output id=\"result-ac07eecb-68ca-4264-af71-3fed31d12956\">\n",
              "      Upload widget is only available when the cell has been executed in the\n",
              "      current browser session. Please rerun this cell to enable.\n",
              "      </output>\n",
              "      <script src=\"/nbextensions/google.colab/files.js\"></script> "
            ],
            "text/plain": [
              "<IPython.core.display.HTML object>"
            ]
          },
          "metadata": {
            "tags": []
          }
        },
        {
          "output_type": "stream",
          "text": [
            "Saving sudoku.png to sudoku (1).png\n"
          ],
          "name": "stdout"
        }
      ]
    },
    {
      "metadata": {
        "id": "9mOidWvPJOn-",
        "colab_type": "code",
        "outputId": "f897899c-4717-402a-b815-3802b5ddb914",
        "colab": {
          "base_uri": "https://localhost:8080/",
          "height": 287
        }
      },
      "cell_type": "code",
      "source": [
        "import cv2\n",
        "import matplotlib.pyplot as plt\n",
        "from pylab import rcParams\n",
        "\n",
        "img = cv2.imread(\"sudoku.png\")\n",
        "img = cv2.cvtColor(img, cv2.COLOR_BGR2RGB)\n",
        "#plt.figure(figsize=(15,15))\n",
        "#plt.axis(\"off\")\n",
        "plt.imshow(img)"
      ],
      "execution_count": 18,
      "outputs": [
        {
          "output_type": "execute_result",
          "data": {
            "text/plain": [
              "<matplotlib.image.AxesImage at 0x7f05e843e668>"
            ]
          },
          "metadata": {
            "tags": []
          },
          "execution_count": 18
        },
        {
          "output_type": "display_data",
          "data": {
            "image/png": "[encoded data removed]",
            "text/plain": [
              "<matplotlib.figure.Figure at 0x7f05e84c3668>"
            ]
          },
          "metadata": {
            "tags": []
          }
        }
      ]
    },
    {
      "metadata": {
        "id": "OQOjTt-_-CTF",
        "colab_type": "text"
      },
      "cell_type": "markdown",
      "source": [
        "contours.ipynbとはことなり、すべてのマスを抽出するループ処理を実験"
      ]
    },
    {
      "metadata": {
        "id": "6DNJLBGY9802",
        "colab_type": "code",
        "outputId": "0aa6d1fd-5a25-493c-bb4d-e981d613cdc9",
        "colab": {
          "base_uri": "https://localhost:8080/",
          "height": 287
        }
      },
      "cell_type": "code",
      "source": [
        "import cv2\n",
        "import matplotlib.pyplot as plt\n",
        "\n",
        "img = cv2.imread(\"sudoku.png\")\n",
        "\n",
        "gray = cv2.cvtColor(img, cv2.COLOR_BGR2GRAY)\n",
        "\n",
        "cnts = cv2.findContours(gray, cv2.RETR_EXTERNAL, cv2.CHAIN_APPROX_SIMPLE)[1]\n",
        "\n",
        "for pt in cnts:\n",
        "  x, y, w, h = cv2.boundingRect(pt)\n",
        "  #print(x, y, w, h)\n",
        "  #cv2.rectangle(img, (x, y), (x+w, y+h), (0, 255, 0), 30)\n",
        "\n",
        "imgC = img[x+25:h-25, y+25:w-25]\n",
        "imgDATA = cv2.resize(imgC, (900, 900))\n",
        "\n",
        "\n",
        "\n",
        "#plt.axis(\"off\")\n",
        "plt.imshow(cv2.cvtColor(imgDATA, cv2.COLOR_BGR2RGB))"
      ],
      "execution_count": 19,
      "outputs": [
        {
          "output_type": "execute_result",
          "data": {
            "text/plain": [
              "<matplotlib.image.AxesImage at 0x7f05e84cefd0>"
            ]
          },
          "metadata": {
            "tags": []
          },
          "execution_count": 19
        },
        {
          "output_type": "display_data",
          "data": {
            "image/png": "[encoded data removed]",
            "text/plain": [
              "<matplotlib.figure.Figure at 0x7f05e83ff2e8>"
            ]
          },
          "metadata": {
            "tags": []
          }
        }
      ]
    },
    {
      "metadata": {
        "id": "tTDdUf2CBGry",
        "colab_type": "text"
      },
      "cell_type": "markdown",
      "source": [
        "pythonの使い方の復習\n",
        "座標軸のテスト"
      ]
    },
    {
      "metadata": {
        "id": "k24Fbkto_Y0K",
        "colab_type": "code",
        "outputId": "3151bb7e-c4bd-4065-f612-6ebd2f47b108",
        "colab": {
          "base_uri": "https://localhost:8080/",
          "height": 2933
        }
      },
      "cell_type": "code",
      "source": [
        "for i in range(9):\n",
        "  for r in range(9):\n",
        "    #print(i,r)\n",
        "    coordinate = (str(i + 1) + str(r + 1))\n",
        "    print(coordinate)\n",
        "    \n",
        "    name = \"img\" + str(i + 1) + str(r + 1)\n",
        "    print(name)"
      ],
      "execution_count": 20,
      "outputs": [
        {
          "output_type": "stream",
          "text": [
            "11\n",
            "img11\n",
            "12\n",
            "img12\n",
            "13\n",
            "img13\n",
            "14\n",
            "img14\n",
            "15\n",
            "img15\n",
            "16\n",
            "img16\n",
            "17\n",
            "img17\n",
            "18\n",
            "img18\n",
            "19\n",
            "img19\n",
            "21\n",
            "img21\n",
            "22\n",
            "img22\n",
            "23\n",
            "img23\n",
            "24\n",
            "img24\n",
            "25\n",
            "img25\n",
            "26\n",
            "img26\n",
            "27\n",
            "img27\n",
            "28\n",
            "img28\n",
            "29\n",
            "img29\n",
            "31\n",
            "img31\n",
            "32\n",
            "img32\n",
            "33\n",
            "img33\n",
            "34\n",
            "img34\n",
            "35\n",
            "img35\n",
            "36\n",
            "img36\n",
            "37\n",
            "img37\n",
            "38\n",
            "img38\n",
            "39\n",
            "img39\n",
            "41\n",
            "img41\n",
            "42\n",
            "img42\n",
            "43\n",
            "img43\n",
            "44\n",
            "img44\n",
            "45\n",
            "img45\n",
            "46\n",
            "img46\n",
            "47\n",
            "img47\n",
            "48\n",
            "img48\n",
            "49\n",
            "img49\n",
            "51\n",
            "img51\n",
            "52\n",
            "img52\n",
            "53\n",
            "img53\n",
            "54\n",
            "img54\n",
            "55\n",
            "img55\n",
            "56\n",
            "img56\n",
            "57\n",
            "img57\n",
            "58\n",
            "img58\n",
            "59\n",
            "img59\n",
            "61\n",
            "img61\n",
            "62\n",
            "img62\n",
            "63\n",
            "img63\n",
            "64\n",
            "img64\n",
            "65\n",
            "img65\n",
            "66\n",
            "img66\n",
            "67\n",
            "img67\n",
            "68\n",
            "img68\n",
            "69\n",
            "img69\n",
            "71\n",
            "img71\n",
            "72\n",
            "img72\n",
            "73\n",
            "img73\n",
            "74\n",
            "img74\n",
            "75\n",
            "img75\n",
            "76\n",
            "img76\n",
            "77\n",
            "img77\n",
            "78\n",
            "img78\n",
            "79\n",
            "img79\n",
            "81\n",
            "img81\n",
            "82\n",
            "img82\n",
            "83\n",
            "img83\n",
            "84\n",
            "img84\n",
            "85\n",
            "img85\n",
            "86\n",
            "img86\n",
            "87\n",
            "img87\n",
            "88\n",
            "img88\n",
            "89\n",
            "img89\n",
            "91\n",
            "img91\n",
            "92\n",
            "img92\n",
            "93\n",
            "img93\n",
            "94\n",
            "img94\n",
            "95\n",
            "img95\n",
            "96\n",
            "img96\n",
            "97\n",
            "img97\n",
            "98\n",
            "img98\n",
            "99\n",
            "img99\n"
          ],
          "name": "stdout"
        }
      ]
    },
    {
      "metadata": {
        "id": "JE6xslXjLN2U",
        "colab_type": "text"
      },
      "cell_type": "markdown",
      "source": [
        "ループ処理を追加して、パラメーターを少しいじくる"
      ]
    },
    {
      "metadata": {
        "id": "aoC4MMdT-jR3",
        "colab_type": "code",
        "outputId": "c9ee435f-08c2-4bea-8bc7-0b53a0f945d9",
        "colab": {
          "base_uri": "https://localhost:8080/",
          "height": 269
        }
      },
      "cell_type": "code",
      "source": [
        "i = 0\n",
        "\n",
        "for y in range(9):\n",
        "  for x in range(9):\n",
        "    coordinate = (str(y + 1) + str(x + 1))\n",
        "    #print(coordinate)\n",
        "\n",
        "\n",
        "    #ここが変数になる\n",
        "    contoursY1 = y * 100\n",
        "    contoursY2 = contoursY1 + 100\n",
        "    contoursX1 = x * 100\n",
        "    contoursX2 = contoursX1 + 100\n",
        "    #ここが幅のパラメーター\n",
        "    contours = 20\n",
        "    \n",
        "\n",
        "\n",
        "    image = imgDATA[contoursY1 + 5 + contours:contoursY2 + 5 - contours,\n",
        "                    contoursX1 + 2 + contours:contoursX2 + 2 - contours]\n",
        "\n",
        "\n",
        "    #二値化\n",
        "    image = cv2.threshold(image,180,255,cv2.THRESH_BINARY)[1] \n",
        "\n",
        "    plt.subplot(9, 9, i+1)\n",
        "    plt.axis(\"off\")\n",
        "    #plt.title(coordinate)\n",
        "    plt.imshow(cv2.cvtColor(image, cv2.COLOR_BGR2RGB))\n",
        "    \n",
        "    i = i + 1\n",
        "    \n",
        "plt.show()"
      ],
      "execution_count": 21,
      "outputs": [
        {
          "output_type": "display_data",
          "data": {
            "image/png": "[encoded data removed]",
            "text/plain": [
              "<matplotlib.figure.Figure at 0x7f05e8548860>"
            ]
          },
          "metadata": {
            "tags": []
          }
        }
      ]
    },
    {
      "metadata": {
        "id": "0730CHaSLWa4",
        "colab_type": "text"
      },
      "cell_type": "markdown",
      "source": [
        "まあまあといった出来だとおもう  \n",
        "判別処理に移る  \n",
        "その前に判別テスト用の画像を用意しよう"
      ]
    },
    {
      "metadata": {
        "id": "d3i8LiaQLfRa",
        "colab_type": "code",
        "outputId": "cf7dccbc-4b5a-4bc9-f610-c519d25bf72e",
        "colab": {
          "base_uri": "https://localhost:8080/",
          "height": 269
        }
      },
      "cell_type": "code",
      "source": [
        "import cv2\n",
        "import matplotlib.pyplot as plt\n",
        "\n",
        "img = cv2.imread(\"sudoku.png\")\n",
        "\n",
        "height, width = img.shape[:2]\n",
        "#width: 1236\n",
        "#height: 1242\n",
        "\n",
        "gray = cv2.cvtColor(img, cv2.COLOR_BGR2GRAY)\n",
        "\n",
        "cnts = cv2.findContours(gray, cv2.RETR_EXTERNAL, cv2.CHAIN_APPROX_SIMPLE)[1]\n",
        "\n",
        "for pt in cnts:\n",
        "  x, y, w, h = cv2.boundingRect(pt)\n",
        "  #print(x, y, w, h)\n",
        "  #cv2.rectangle(img, (x, y), (x+w, y+h), (0, 255, 0), 30)\n",
        "\n",
        "imgC = img[x+25:h-25, y+25:w-25]\n",
        "imgDATA = cv2.resize(imgC, (900, 900))\n",
        "\n",
        "#ここが変数になる\n",
        "contoursY1 = 100\n",
        "contoursY2 = 200\n",
        "contoursX1 = 800\n",
        "contoursX2 = 900\n",
        "#ここが幅のパラメーター\n",
        "contours = 20\n",
        "\n",
        "\n",
        "img29 = imgDATA[contoursY1 + 5 + contours:contoursY2 + 5 - contours,\n",
        "                contoursX1 + 2 + contours:contoursX2 + 2 - contours]\n",
        "\n",
        "\n",
        "#二値化\n",
        "img29 = cv2.threshold(img29,180,255,cv2.THRESH_BINARY)[1] \n",
        "\n",
        "#plt.axis(\"off\")\n",
        "plt.imshow(cv2.cvtColor(img29, cv2.COLOR_BGR2RGB))\n",
        "plt.show()"
      ],
      "execution_count": 22,
      "outputs": [
        {
          "output_type": "display_data",
          "data": {
            "image/png": "[encoded data removed]",
            "text/plain": [
              "<matplotlib.figure.Figure at 0x7f05e86c9588>"
            ]
          },
          "metadata": {
            "tags": []
          }
        }
      ]
    },
    {
      "metadata": {
        "id": "52pP-h1LaypB",
        "colab_type": "code",
        "colab": {
          "base_uri": "https://localhost:8080/",
          "height": 269
        },
        "outputId": "1ca23b58-67a4-4671-9f1e-554b994070e1"
      },
      "cell_type": "code",
      "source": [
        "import cv2\n",
        "import matplotlib.pyplot as plt\n",
        "\n",
        "img = cv2.imread(\"sudoku.png\")\n",
        "\n",
        "height, width = img.shape[:2]\n",
        "#width: 1236\n",
        "#height: 1242\n",
        "\n",
        "gray = cv2.cvtColor(img, cv2.COLOR_BGR2GRAY)\n",
        "\n",
        "cnts = cv2.findContours(gray, cv2.RETR_EXTERNAL, cv2.CHAIN_APPROX_SIMPLE)[1]\n",
        "\n",
        "for pt in cnts:\n",
        "  x, y, w, h = cv2.boundingRect(pt)\n",
        "  #print(x, y, w, h)\n",
        "  #cv2.rectangle(img, (x, y), (x+w, y+h), (0, 255, 0), 30)\n",
        "\n",
        "imgC = img[x+25:h-25, y+25:w-25]\n",
        "imgDATA = cv2.resize(imgC, (900, 900))\n",
        "\n",
        "#ここが変数になる\n",
        "contoursY1 = 0\n",
        "contoursY2 = 100\n",
        "contoursX1 = 0\n",
        "contoursX2 = 100\n",
        "#ここが幅のパラメーター\n",
        "contours = 20\n",
        "\n",
        "\n",
        "img11 = imgDATA[contoursY1 + 5 + contours:contoursY2 + 5 - contours,\n",
        "                contoursX1 + 2 + contours:contoursX2 + 2 - contours]\n",
        "\n",
        "\n",
        "#二値化\n",
        "img11 = cv2.threshold(img11,180,255,cv2.THRESH_BINARY)[1] \n",
        "\n",
        "#plt.axis(\"off\")\n",
        "plt.imshow(cv2.cvtColor(img11, cv2.COLOR_BGR2RGB))\n",
        "plt.show()"
      ],
      "execution_count": 23,
      "outputs": [
        {
          "output_type": "display_data",
          "data": {
            "image/png": "[encoded data removed]",
            "text/plain": [
              "<matplotlib.figure.Figure at 0x7f05ec498780>"
            ]
          },
          "metadata": {
            "tags": []
          }
        }
      ]
    },
    {
      "metadata": {
        "id": "DO9Lm8jK3Iso",
        "colab_type": "text"
      },
      "cell_type": "markdown",
      "source": [
        "中央の20*20をくくりだして、黒が入っているかのチェック  "
      ]
    },
    {
      "metadata": {
        "id": "VqB4Qo4AblVk",
        "colab_type": "code",
        "colab": {
          "base_uri": "https://localhost:8080/",
          "height": 273
        },
        "outputId": "7d3743f4-f4a2-4c73-a052-9802b55ff6d6"
      },
      "cell_type": "code",
      "source": [
        "img11a =img11[15:35, 15:35]\n",
        "img29a =img29[15:35, 15:35]\n",
        "\n",
        "plt.subplot(1, 2, 1)\n",
        "plt.imshow(cv2.cvtColor(img11a, cv2.COLOR_BGR2RGB))\n",
        "plt.subplot(1, 2, 2)\n",
        "plt.imshow(cv2.cvtColor(img29a, cv2.COLOR_BGR2RGB))\n",
        "plt.show()\n",
        "\n",
        "img11a = img11a.flatten()\n",
        "img29a = img29a.flatten()\n",
        "\n",
        "print(img11a.shape)\n",
        "print(img29a.shape)\n",
        "\n",
        "if 0 not in img11a:\n",
        "  print(\"not number\")\n",
        "else:\n",
        "  print(\"number\")\n",
        "  \n",
        "if 0 not in img29a:\n",
        "  print(\"not number\")\n",
        "else:\n",
        "  print(\"number\")"
      ],
      "execution_count": 32,
      "outputs": [
        {
          "output_type": "display_data",
          "data": {
            "image/png": "[encoded data removed]",
            "text/plain": [
              "<matplotlib.figure.Figure at 0x7f05e8000198>"
            ]
          },
          "metadata": {
            "tags": []
          }
        },
        {
          "output_type": "stream",
          "text": [
            "(1200,)\n",
            "(1200,)\n",
            "not number\n",
            "number\n"
          ],
          "name": "stdout"
        }
      ]
    },
    {
      "metadata": {
        "id": "FqW3zDKE3V-8",
        "colab_type": "text"
      },
      "cell_type": "markdown",
      "source": [
        "ひとまず完成といっていいだろう"
      ]
    },
    {
      "metadata": {
        "id": "ydTOqh8E4IEF",
        "colab_type": "code",
        "colab": {
          "base_uri": "https://localhost:8080/",
          "height": 275
        },
        "outputId": "77e3cca6-aeb4-44ec-ad7e-c87b16c8193b"
      },
      "cell_type": "code",
      "source": [
        "img11a =img11[10:40, 10:40]\n",
        "img29a =img29[10:40, 10:40]\n",
        "\n",
        "plt.subplot(1, 2, 1)\n",
        "plt.imshow(cv2.cvtColor(img11a, cv2.COLOR_BGR2RGB))\n",
        "plt.subplot(1, 2, 2)\n",
        "plt.imshow(cv2.cvtColor(img29a, cv2.COLOR_BGR2RGB))\n",
        "plt.show()\n",
        "\n",
        "img11a = img11a.flatten()\n",
        "img29a = img29a.flatten()\n",
        "\n",
        "print(img11a.shape)\n",
        "print(img29a.shape)\n",
        "\n",
        "if 0 not in img11a:\n",
        "  print(\"not number\")\n",
        "else:\n",
        "  print(\"number\")\n",
        "  \n",
        "if 0 not in img29a:\n",
        "  print(\"not number\")\n",
        "else:\n",
        "  print(\"number\")"
      ],
      "execution_count": 33,
      "outputs": [
        {
          "output_type": "display_data",
          "data": {
            "image/png": "[encoded data removed]",
            "text/plain": [
              "<matplotlib.figure.Figure at 0x7f05e7f8ef98>"
            ]
          },
          "metadata": {
            "tags": []
          }
        },
        {
          "output_type": "stream",
          "text": [
            "(2700,)\n",
            "(2700,)\n",
            "not number\n",
            "number\n"
          ],
          "name": "stdout"
        }
      ]
    },
    {
      "metadata": {
        "id": "rmTeq3_56H-E",
        "colab_type": "text"
      },
      "cell_type": "markdown",
      "source": [
        "動的変数のテスト  \n",
        "をやってみたら無理だったので辞書に格納"
      ]
    },
    {
      "metadata": {
        "id": "tTH1t3AY6KXO",
        "colab_type": "code",
        "colab": {
          "base_uri": "https://localhost:8080/",
          "height": 203
        },
        "outputId": "dc29853a-6891-44b5-9553-6ac53c130730"
      },
      "cell_type": "code",
      "source": [
        "code = {}\n",
        "\n",
        "for y in range(9):\n",
        "  for x in range(9):\n",
        "    coordinate = (str(y + 1) + str(x + 1))\n",
        "    #print(coordinate)\n",
        "\n",
        "\n",
        "    #ここが変数になる\n",
        "    contoursY1 = y * 100\n",
        "    contoursY2 = contoursY1 + 100\n",
        "    contoursX1 = x * 100\n",
        "    contoursX2 = contoursX1 + 100\n",
        "    #ここが幅のパラメーター\n",
        "    contours = 20\n",
        "    \n",
        "    filename = \"img\" + coordinate\n",
        "\n",
        "\n",
        "    image = imgDATA[contoursY1 + 5 + contours:contoursY2 + 5 - contours,\n",
        "                    contoursX1 + 2 + contours:contoursX2 + 2 - contours]\n",
        "\n",
        "\n",
        "    #二値化\n",
        "    image = cv2.threshold(image,180,255,cv2.THRESH_BINARY)[1] \n",
        "    \n",
        "    #print(filename)\n",
        "    code[filename] = image\n",
        "    \n",
        "plt.subplot(1, 2, 1)\n",
        "plt.imshow(cv2.cvtColor(code[\"img11\"], cv2.COLOR_BGR2RGB))\n",
        "plt.subplot(1, 2, 2)\n",
        "plt.imshow(cv2.cvtColor(code[\"img29\"], cv2.COLOR_BGR2RGB))\n",
        "plt.show()"
      ],
      "execution_count": 54,
      "outputs": [
        {
          "output_type": "display_data",
          "data": {
            "image/png": "[encoded data removed]",
            "text/plain": [
              "<matplotlib.figure.Figure at 0x7f05e7eea3c8>"
            ]
          },
          "metadata": {
            "tags": []
          }
        }
      ]
    }
  ]
}