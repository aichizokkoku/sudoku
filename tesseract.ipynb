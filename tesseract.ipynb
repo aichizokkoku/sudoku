{
  "nbformat": 4,
  "nbformat_minor": 0,
  "metadata": {
    "colab": {
      "name": "tesseract.ipynb",
      "version": "0.3.2",
      "provenance": []
    },
    "kernelspec": {
      "name": "python3",
      "display_name": "Python 3"
    },
    "accelerator": "GPU"
  },
  "cells": [
    {
      "metadata": {
        "id": "bLMhEl8_fyFF",
        "colab_type": "text"
      },
      "cell_type": "markdown",
      "source": [
        "tesseractを用いて画像認識させてみる"
      ]
    },
    {
      "metadata": {
        "id": "ApDUqLXMpVnc",
        "colab_type": "code",
        "colab": {
          "base_uri": "https://localhost:8080/",
          "height": 195
        },
        "outputId": "24f7dd26-4591-44e3-bf89-76e94e390126"
      },
      "cell_type": "code",
      "source": [
        "!pip install tesseract"
      ],
      "execution_count": 11,
      "outputs": [
        {
          "output_type": "stream",
          "text": [
            "Collecting tesseract\n",
            "\u001b[?25l  Downloading https://files.pythonhosted.org/packages/8d/b7/c4fae9af5842f69d9c45bf1195a94aec090628535c102894552a7a7dbe6c/tesseract-0.1.3.tar.gz (45.6MB)\n",
            "\u001b[K    100% |████████████████████████████████| 45.6MB 972kB/s \n",
            "\u001b[?25hBuilding wheels for collected packages: tesseract\n",
            "  Running setup.py bdist_wheel for tesseract ... \u001b[?25l-\b \b\\\b \b|\b \b/\b \b-\b \b\\\b \b|\b \b/\b \bdone\n",
            "\u001b[?25h  Stored in directory: /root/.cache/pip/wheels/82/1f/d9/24797b123379e4ea9511cf660835468b62dad609634cad2aba\n",
            "Successfully built tesseract\n",
            "Installing collected packages: tesseract\n",
            "Successfully installed tesseract-0.1.3\n"
          ],
          "name": "stdout"
        }
      ]
    },
    {
      "metadata": {
        "id": "6LxoIGbFfrET",
        "colab_type": "code",
        "colab": {
          "base_uri": "https://localhost:8080/",
          "height": 125
        },
        "outputId": "5e26188c-fedc-4586-aeda-236b5cb8c311"
      },
      "cell_type": "code",
      "source": [
        "!pip install pytesseract\n",
        "!pip install pillow"
      ],
      "execution_count": 12,
      "outputs": [
        {
          "output_type": "stream",
          "text": [
            "Requirement already satisfied: pytesseract in /usr/local/lib/python3.6/dist-packages (0.2.5)\n",
            "Requirement already satisfied: Pillow in /usr/local/lib/python3.6/dist-packages (from pytesseract) (4.0.0)\n",
            "Requirement already satisfied: olefile in /usr/local/lib/python3.6/dist-packages (from Pillow->pytesseract) (0.46)\n",
            "Requirement already satisfied: pillow in /usr/local/lib/python3.6/dist-packages (4.0.0)\n",
            "Requirement already satisfied: olefile in /usr/local/lib/python3.6/dist-packages (from pillow) (0.46)\n"
          ],
          "name": "stdout"
        }
      ]
    },
    {
      "metadata": {
        "id": "gNVHvFUih_b3",
        "colab_type": "code",
        "colab": {
          "base_uri": "https://localhost:8080/",
          "height": 70
        },
        "outputId": "2afb986d-ad61-4166-cf29-b71c2ceacbd5"
      },
      "cell_type": "code",
      "source": [
        "import cv2\n",
        "import matplotlib.pyplot as plt\n",
        "import pytesseract\n",
        "from PIL import Image\n",
        "\n",
        "url_img = 'img25.png'\n",
        "img = Image.open(url_img)\n",
        "\n",
        "print(url_img)\n",
        "print (img)\n",
        "\n",
        "#plt.axis(\"off\")\n",
        "#plt.imshow(cv2.cvtColor(img, cv2.COLOR_BGR2RGB))\n",
        "#plt.show()\n",
        "\n",
        "number = pytesseract.image_to_string(img)\n",
        "print (number)"
      ],
      "execution_count": 46,
      "outputs": [
        {
          "output_type": "stream",
          "text": [
            "img25.png\n",
            "<PIL.PngImagePlugin.PngImageFile image mode=RGB size=50x50 at 0x7FA6CDBDA5C0>\n",
            "\n"
          ],
          "name": "stdout"
        }
      ]
    },
    {
      "metadata": {
        "id": "tUgiUtrRv_ce",
        "colab_type": "code",
        "colab": {
          "base_uri": "https://localhost:8080/",
          "height": 140
        },
        "outputId": "ddf93cc3-5eeb-4bc3-992b-bf829ce6812a"
      },
      "cell_type": "code",
      "source": [
        "!tesseract img13.png result digits\n",
        "!cat result.txt"
      ],
      "execution_count": 47,
      "outputs": [
        {
          "output_type": "stream",
          "text": [
            "Tesseract Open Source OCR Engine v4.0.0-beta.1 with Leptonica\n",
            "Warning. Invalid resolution 0 dpi. Using 70 instead.\n",
            "Estimating resolution as 625\n",
            "Empty page!!\n",
            "Estimating resolution as 625\n",
            "Empty page!!\n",
            "\f"
          ],
          "name": "stdout"
        }
      ]
    },
    {
      "metadata": {
        "id": "3FIMokBluoo1",
        "colab_type": "code",
        "colab": {
          "base_uri": "https://localhost:8080/",
          "height": 160
        },
        "outputId": "4b5fb651-b070-4281-eb1f-a676d553ab19"
      },
      "cell_type": "code",
      "source": [
        "! tesseract -v"
      ],
      "execution_count": 48,
      "outputs": [
        {
          "output_type": "stream",
          "text": [
            "tesseract 4.0.0-beta.1\n",
            " leptonica-1.75.3\n",
            "  libgif 5.1.4 : libjpeg 8d (libjpeg-turbo 1.5.2) : libpng 1.6.34 : libtiff 4.0.9 : zlib 1.2.11 : libwebp 0.6.1 : libopenjp2 2.3.0\n",
            "\n",
            " Found AVX2\n",
            " Found AVX\n",
            " Found SSE\n"
          ],
          "name": "stdout"
        }
      ]
    },
    {
      "metadata": {
        "id": "ZywHT9AXqiqs",
        "colab_type": "code",
        "colab": {}
      },
      "cell_type": "code",
      "source": [
        "%matplotlib inline"
      ],
      "execution_count": 0,
      "outputs": []
    },
    {
      "metadata": {
        "id": "ryQH3oLfqqC0",
        "colab_type": "code",
        "colab": {
          "base_uri": "https://localhost:8080/",
          "height": 267
        },
        "outputId": "631f4f1d-1db3-446e-8cbc-facd772b49d1"
      },
      "cell_type": "code",
      "source": [
        "import cv2\n",
        "import matplotlib.pyplot as plt\n",
        "\n",
        "img17 = cv2.imread(\"img17.png\") \n",
        "\n",
        "#二値化\n",
        "image = cv2.threshold(img17,180,255,cv2.THRESH_BINARY)[1] \n",
        "\n",
        "#plt.axis(\"off\")\n",
        "plt.imshow(cv2.cvtColor(image, cv2.COLOR_BGR2RGB))\n",
        "plt.show()"
      ],
      "execution_count": 45,
      "outputs": [
        {
          "output_type": "display_data",
          "data": {
            "image/png": "[encoded data removed]",
            "text/plain": [
              "<matplotlib.figure.Figure at 0x7fa6c09e7860>"
            ]
          },
          "metadata": {
            "tags": []
          }
        }
      ]
    }
  ]
}